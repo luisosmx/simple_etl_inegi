{
  "nbformat": 4,
  "nbformat_minor": 0,
  "metadata": {
    "colab": {
      "provenance": [],
      "authorship_tag": "ABX9TyMytBFGuEiQz0K/RqY1WxK0",
      "include_colab_link": true
    },
    "kernelspec": {
      "name": "python3",
      "display_name": "Python 3"
    },
    "language_info": {
      "name": "python"
    }
  },
  "cells": [
    {
      "cell_type": "markdown",
      "metadata": {
        "id": "view-in-github",
        "colab_type": "text"
      },
      "source": [
        "<a href=\"https://colab.research.google.com/github/luisosmx/proyect_e2e/blob/main/pof_etl.ipynb\" target=\"_parent\"><img src=\"https://colab.research.google.com/assets/colab-badge.svg\" alt=\"Open In Colab\"/></a>"
      ]
    },
    {
      "cell_type": "code",
      "source": [
        "!pip install unidecode\n",
        "import requests\n",
        "import pandas as pd\n",
        "import datetime\n",
        "import unidecode"
      ],
      "metadata": {
        "colab": {
          "base_uri": "https://localhost:8080/"
        },
        "id": "AdEhaTVtYMRB",
        "outputId": "972265e3-9103-40c3-8db8-1cbd47a446fc"
      },
      "execution_count": 29,
      "outputs": [
        {
          "output_type": "stream",
          "name": "stdout",
          "text": [
            "Looking in indexes: https://pypi.org/simple, https://us-python.pkg.dev/colab-wheels/public/simple/\n",
            "Collecting unidecode\n",
            "  Downloading Unidecode-1.3.6-py3-none-any.whl (235 kB)\n",
            "\u001b[2K     \u001b[90m━━━━━━━━━━━━━━━━━━━━━━━━━━━━━━━━━━━━━━\u001b[0m \u001b[32m235.9/235.9 KB\u001b[0m \u001b[31m14.4 MB/s\u001b[0m eta \u001b[36m0:00:00\u001b[0m\n",
            "\u001b[?25hInstalling collected packages: unidecode\n",
            "Successfully installed unidecode-1.3.6\n"
          ]
        }
      ]
    },
    {
      "cell_type": "code",
      "source": [
        "URL = 'https://datos.cdmx.gob.mx/dataset/f2046fd5-51b5-4876-b008-bd65d95f9a02/resource/0e8ffe58-28bb-4dde-afcd-e5f5b4de4ccb/download/afluenciastc_simple_01_2023.csv'\n"
      ],
      "metadata": {
        "id": "PnCr234JZRGt"
      },
      "execution_count": 30,
      "outputs": []
    },
    {
      "cell_type": "code",
      "source": [
        "  response = requests.get(URL)\n",
        "  file_path = \"afluenciastc_simple_01_2023.csv\"\n",
        "  open(file_path, \"wb\").write(response.content)"
      ],
      "metadata": {
        "colab": {
          "base_uri": "https://localhost:8080/"
        },
        "id": "4Nyix74vbO1J",
        "outputId": "195c6a88-4ba6-4c34-9532-51294c01d1e1"
      },
      "execution_count": 31,
      "outputs": [
        {
          "output_type": "execute_result",
          "data": {
            "text/plain": [
              "45944517"
            ]
          },
          "metadata": {},
          "execution_count": 31
        }
      ]
    },
    {
      "cell_type": "code",
      "source": [
        "def data_extraction(url: str) -> pd.DataFrame:\n",
        "\n",
        "  # Descarga de archivo\n",
        "  response = requests.get(url)\n",
        "  file_path = \"afluenciastc_simple_01_2023.csv\"\n",
        "  open(file_path, \"wb\").write(response.content)\n",
        "\n",
        "  # Leer datos del archivo csv en un DataFrame de Pandas\n",
        "  df = pd.read_csv(\"afluenciastc_simple_01_2023.csv\", encoding='ISO-8859-1')\n",
        "  return df "
      ],
      "metadata": {
        "id": "NnSkfgDkZ82g"
      },
      "execution_count": 32,
      "outputs": []
    },
    {
      "cell_type": "code",
      "source": [],
      "metadata": {
        "id": "6AV0faf5SLFm"
      },
      "execution_count": 17,
      "outputs": []
    },
    {
      "cell_type": "code",
      "source": [
        "def data_tranformation(df: pd.DataFrame) -> pd.DataFrame:\n",
        "\n",
        "  # Renombrar columnas del DataFrame\n",
        "  df = df.rename(columns={\n",
        "      'fecha': 'date',\n",
        "      'anio': 'year',\n",
        "      'mes': 'month',\n",
        "      'linea': 'line',\n",
        "      'estacion': 'station',\n",
        "      'afluencia': 'influx'\n",
        "  })\n",
        "\n",
        "  # Convertir nombres de líneas a minúsculas\n",
        "  df['line'] = df['line'].str.lower()\n",
        "\n",
        "  # Convertir nombres de estaciones a caracteres sin acentos\n",
        "  df['station'] = df['station'].apply(lambda x: unidecode.unidecode(x))\n",
        "\n",
        "  # Agregar fecha y hora de ingestión como una nueva columna al DataFrame\n",
        "  now = datetime.datetime.now()\n",
        "  ingestion_date = now.strftime('%Y-%m-%d %H:%M:%S')\n",
        "  df['ingestion_date'] = ingestion_date\n",
        "\n",
        "  # Convertir múltiples columnas a cadenas de caracteres\n",
        "  df = df.applymap(str)\n",
        "  df['year'] = df['year'].astype('int')\n",
        "  df['influx'] = df['influx'].astype('int')\n",
        "  return df"
      ],
      "metadata": {
        "id": "MgUs2KsCO989"
      },
      "execution_count": 33,
      "outputs": []
    },
    {
      "cell_type": "code",
      "source": [
        "raw_data = data_extraction(URL)\n",
        "transformed_data = data_tranformation(raw_data)\n",
        "display(transformed_data)\n"
      ],
      "metadata": {
        "id": "NVB546LCTH59"
      },
      "execution_count": null,
      "outputs": []
    }
  ]
}