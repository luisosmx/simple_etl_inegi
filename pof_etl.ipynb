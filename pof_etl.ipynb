{
  "nbformat": 4,
  "nbformat_minor": 0,
  "metadata": {
    "colab": {
      "provenance": [],
      "authorship_tag": "ABX9TyMmScgcuD1Vo+rUSapHxpxx",
      "include_colab_link": true
    },
    "kernelspec": {
      "name": "python3",
      "display_name": "Python 3"
    },
    "language_info": {
      "name": "python"
    }
  },
  "cells": [
    {
      "cell_type": "markdown",
      "metadata": {
        "id": "view-in-github",
        "colab_type": "text"
      },
      "source": [
        "<a href=\"https://colab.research.google.com/github/luisosmx/proyect_e2e/blob/main/pof_etl.ipynb\" target=\"_parent\"><img src=\"https://colab.research.google.com/assets/colab-badge.svg\" alt=\"Open In Colab\"/></a>"
      ]
    },
    {
      "cell_type": "code",
      "source": [
        "!pip install unidecode\n",
        "import requests\n",
        "import pandas as pd\n",
        "import datetime\n",
        "import unidecode\n",
        "from google.cloud import bigquery\n",
        "import pytz\n",
        "from logging import exception"
      ],
      "metadata": {
        "colab": {
          "base_uri": "https://localhost:8080/"
        },
        "id": "AdEhaTVtYMRB",
        "outputId": "73a31f94-cbf9-4069-dafb-1eead43c79a5"
      },
      "execution_count": 48,
      "outputs": [
        {
          "output_type": "stream",
          "name": "stdout",
          "text": [
            "Looking in indexes: https://pypi.org/simple, https://us-python.pkg.dev/colab-wheels/public/simple/\n",
            "Requirement already satisfied: unidecode in /usr/local/lib/python3.9/dist-packages (1.3.6)\n"
          ]
        }
      ]
    },
    {
      "cell_type": "code",
      "source": [
        "URL = 'https://datos.cdmx.gob.mx/dataset/f2046fd5-51b5-4876-b008-bd65d95f9a02/resource/0e8ffe58-28bb-4dde-afcd-e5f5b4de4ccb/download/afluenciastc_simple_01_2023.csv'\n"
      ],
      "metadata": {
        "id": "PnCr234JZRGt"
      },
      "execution_count": 50,
      "outputs": []
    },
    {
      "cell_type": "code",
      "source": [
        "  response = requests.get(URL)\n",
        "  file_path = \"afluenciastc_simple_01_2023.csv\"\n",
        "  open(file_path, \"wb\").write(response.content)"
      ],
      "metadata": {
        "colab": {
          "base_uri": "https://localhost:8080/"
        },
        "id": "4Nyix74vbO1J",
        "outputId": "ed961651-102e-4b78-f1d5-da8aa27d82cc"
      },
      "execution_count": 51,
      "outputs": [
        {
          "output_type": "execute_result",
          "data": {
            "text/plain": [
              "45944517"
            ]
          },
          "metadata": {},
          "execution_count": 51
        }
      ]
    },
    {
      "cell_type": "code",
      "source": [
        "def data_extraction(url: str) -> pd.DataFrame:\n",
        "\n",
        "  # Descarga de archivo\n",
        "  response = requests.get(url)\n",
        "  file_path = \"afluenciastc_simple_01_2023.csv\"\n",
        "  open(file_path, \"wb\").write(response.content)\n",
        "\n",
        "  # Leer datos del archivo csv en un DataFrame de Pandas\n",
        "  df = pd.read_csv(\"afluenciastc_simple_01_2023.csv\", encoding='ISO-8859-1')\n",
        "  return df "
      ],
      "metadata": {
        "id": "NnSkfgDkZ82g"
      },
      "execution_count": 52,
      "outputs": []
    },
    {
      "cell_type": "code",
      "source": [
        "def data_tranformation(df: pd.DataFrame) -> pd.DataFrame:\n",
        "\n",
        "  # Renombrar columnas del DataFrame\n",
        "  df = df.rename(columns={\n",
        "      'fecha': 'date',\n",
        "      'anio': 'year',\n",
        "      'mes': 'month',\n",
        "      'linea': 'line',\n",
        "      'estacion': 'station',\n",
        "      'afluencia': 'influx'\n",
        "  })\n",
        "\n",
        "  # Convertir nombres de líneas a minúsculas\n",
        "  df['line'] = df['line'].str.lower()\n",
        "\n",
        "  # Convertir nombres de estaciones a caracteres sin acentos\n",
        "  df['station'] = df['station'].apply(lambda x: unidecode.unidecode(x))\n",
        "\n",
        "  # Agregar fecha y hora de ingestión como una nueva columna al DataFrame\n",
        "  now = datetime.datetime.now()\n",
        "  ingestion_date = now.strftime('%Y-%m-%d %H:%M:%S')\n",
        "  df['ingestion_date'] = ingestion_date\n",
        "\n",
        "  # Convertir múltiples columnas a cadenas de caracteres\n",
        "  df = df.applymap(str)\n",
        "  df['year'] = df['year'].astype('int')\n",
        "  df['influx'] = df['influx'].astype('int')\n",
        "  return df"
      ],
      "metadata": {
        "id": "MgUs2KsCO989"
      },
      "execution_count": 53,
      "outputs": []
    },
    {
      "cell_type": "code",
      "source": [
        "raw_data = data_extraction(URL)\n",
        "transformed_data = data_tranformation(raw_data)\n",
        "display(transformed_data)\n"
      ],
      "metadata": {
        "colab": {
          "base_uri": "https://localhost:8080/",
          "height": 641
        },
        "id": "NVB546LCTH59",
        "outputId": "595b03ab-cddc-4255-fb81-e4343bd7f18f"
      },
      "execution_count": 54,
      "outputs": [
        {
          "output_type": "display_data",
          "data": {
            "text/plain": [
              "              date  year    month     line              station  influx  \\\n",
              "0       2010-01-01  2010    Enero  linea 1             Zaragoza   20227   \n",
              "1       2010-01-01  2010    Enero  linea 1  Isabel la CatA3lica    6487   \n",
              "2       2010-01-01  2010    Enero  linea 1            Moctezuma   10304   \n",
              "3       2010-01-01  2010    Enero  linea 1         Pino SuA!rez    8679   \n",
              "4       2010-01-01  2010    Enero  linea 1        GA3mez FarAas   19499   \n",
              "...            ...   ...      ...      ...                  ...     ...   \n",
              "937360  2023-02-28  2023  Febrero  linea b  RAo de los Remedios   20223   \n",
              "937361  2023-02-28  2023  Febrero  linea b         Romero Rubio   15656   \n",
              "937362  2023-02-28  2023  Febrero  linea b          San LA!zaro   25538   \n",
              "937363  2023-02-28  2023  Febrero  linea b               Tepito   14386   \n",
              "937364  2023-02-28  2023  Febrero  linea b     Villa de AragA3n   19907   \n",
              "\n",
              "             ingestion_date  \n",
              "0       2023-03-29 04:04:49  \n",
              "1       2023-03-29 04:04:49  \n",
              "2       2023-03-29 04:04:49  \n",
              "3       2023-03-29 04:04:49  \n",
              "4       2023-03-29 04:04:49  \n",
              "...                     ...  \n",
              "937360  2023-03-29 04:04:49  \n",
              "937361  2023-03-29 04:04:49  \n",
              "937362  2023-03-29 04:04:49  \n",
              "937363  2023-03-29 04:04:49  \n",
              "937364  2023-03-29 04:04:49  \n",
              "\n",
              "[937365 rows x 7 columns]"
            ],
            "text/html": [
              "\n",
              "  <div id=\"df-64170af9-78a4-428e-8714-841f2c3c401c\">\n",
              "    <div class=\"colab-df-container\">\n",
              "      <div>\n",
              "<style scoped>\n",
              "    .dataframe tbody tr th:only-of-type {\n",
              "        vertical-align: middle;\n",
              "    }\n",
              "\n",
              "    .dataframe tbody tr th {\n",
              "        vertical-align: top;\n",
              "    }\n",
              "\n",
              "    .dataframe thead th {\n",
              "        text-align: right;\n",
              "    }\n",
              "</style>\n",
              "<table border=\"1\" class=\"dataframe\">\n",
              "  <thead>\n",
              "    <tr style=\"text-align: right;\">\n",
              "      <th></th>\n",
              "      <th>date</th>\n",
              "      <th>year</th>\n",
              "      <th>month</th>\n",
              "      <th>line</th>\n",
              "      <th>station</th>\n",
              "      <th>influx</th>\n",
              "      <th>ingestion_date</th>\n",
              "    </tr>\n",
              "  </thead>\n",
              "  <tbody>\n",
              "    <tr>\n",
              "      <th>0</th>\n",
              "      <td>2010-01-01</td>\n",
              "      <td>2010</td>\n",
              "      <td>Enero</td>\n",
              "      <td>linea 1</td>\n",
              "      <td>Zaragoza</td>\n",
              "      <td>20227</td>\n",
              "      <td>2023-03-29 04:04:49</td>\n",
              "    </tr>\n",
              "    <tr>\n",
              "      <th>1</th>\n",
              "      <td>2010-01-01</td>\n",
              "      <td>2010</td>\n",
              "      <td>Enero</td>\n",
              "      <td>linea 1</td>\n",
              "      <td>Isabel la CatA3lica</td>\n",
              "      <td>6487</td>\n",
              "      <td>2023-03-29 04:04:49</td>\n",
              "    </tr>\n",
              "    <tr>\n",
              "      <th>2</th>\n",
              "      <td>2010-01-01</td>\n",
              "      <td>2010</td>\n",
              "      <td>Enero</td>\n",
              "      <td>linea 1</td>\n",
              "      <td>Moctezuma</td>\n",
              "      <td>10304</td>\n",
              "      <td>2023-03-29 04:04:49</td>\n",
              "    </tr>\n",
              "    <tr>\n",
              "      <th>3</th>\n",
              "      <td>2010-01-01</td>\n",
              "      <td>2010</td>\n",
              "      <td>Enero</td>\n",
              "      <td>linea 1</td>\n",
              "      <td>Pino SuA!rez</td>\n",
              "      <td>8679</td>\n",
              "      <td>2023-03-29 04:04:49</td>\n",
              "    </tr>\n",
              "    <tr>\n",
              "      <th>4</th>\n",
              "      <td>2010-01-01</td>\n",
              "      <td>2010</td>\n",
              "      <td>Enero</td>\n",
              "      <td>linea 1</td>\n",
              "      <td>GA3mez FarAas</td>\n",
              "      <td>19499</td>\n",
              "      <td>2023-03-29 04:04:49</td>\n",
              "    </tr>\n",
              "    <tr>\n",
              "      <th>...</th>\n",
              "      <td>...</td>\n",
              "      <td>...</td>\n",
              "      <td>...</td>\n",
              "      <td>...</td>\n",
              "      <td>...</td>\n",
              "      <td>...</td>\n",
              "      <td>...</td>\n",
              "    </tr>\n",
              "    <tr>\n",
              "      <th>937360</th>\n",
              "      <td>2023-02-28</td>\n",
              "      <td>2023</td>\n",
              "      <td>Febrero</td>\n",
              "      <td>linea b</td>\n",
              "      <td>RAo de los Remedios</td>\n",
              "      <td>20223</td>\n",
              "      <td>2023-03-29 04:04:49</td>\n",
              "    </tr>\n",
              "    <tr>\n",
              "      <th>937361</th>\n",
              "      <td>2023-02-28</td>\n",
              "      <td>2023</td>\n",
              "      <td>Febrero</td>\n",
              "      <td>linea b</td>\n",
              "      <td>Romero Rubio</td>\n",
              "      <td>15656</td>\n",
              "      <td>2023-03-29 04:04:49</td>\n",
              "    </tr>\n",
              "    <tr>\n",
              "      <th>937362</th>\n",
              "      <td>2023-02-28</td>\n",
              "      <td>2023</td>\n",
              "      <td>Febrero</td>\n",
              "      <td>linea b</td>\n",
              "      <td>San LA!zaro</td>\n",
              "      <td>25538</td>\n",
              "      <td>2023-03-29 04:04:49</td>\n",
              "    </tr>\n",
              "    <tr>\n",
              "      <th>937363</th>\n",
              "      <td>2023-02-28</td>\n",
              "      <td>2023</td>\n",
              "      <td>Febrero</td>\n",
              "      <td>linea b</td>\n",
              "      <td>Tepito</td>\n",
              "      <td>14386</td>\n",
              "      <td>2023-03-29 04:04:49</td>\n",
              "    </tr>\n",
              "    <tr>\n",
              "      <th>937364</th>\n",
              "      <td>2023-02-28</td>\n",
              "      <td>2023</td>\n",
              "      <td>Febrero</td>\n",
              "      <td>linea b</td>\n",
              "      <td>Villa de AragA3n</td>\n",
              "      <td>19907</td>\n",
              "      <td>2023-03-29 04:04:49</td>\n",
              "    </tr>\n",
              "  </tbody>\n",
              "</table>\n",
              "<p>937365 rows × 7 columns</p>\n",
              "</div>\n",
              "      <button class=\"colab-df-convert\" onclick=\"convertToInteractive('df-64170af9-78a4-428e-8714-841f2c3c401c')\"\n",
              "              title=\"Convert this dataframe to an interactive table.\"\n",
              "              style=\"display:none;\">\n",
              "        \n",
              "  <svg xmlns=\"http://www.w3.org/2000/svg\" height=\"24px\"viewBox=\"0 0 24 24\"\n",
              "       width=\"24px\">\n",
              "    <path d=\"M0 0h24v24H0V0z\" fill=\"none\"/>\n",
              "    <path d=\"M18.56 5.44l.94 2.06.94-2.06 2.06-.94-2.06-.94-.94-2.06-.94 2.06-2.06.94zm-11 1L8.5 8.5l.94-2.06 2.06-.94-2.06-.94L8.5 2.5l-.94 2.06-2.06.94zm10 10l.94 2.06.94-2.06 2.06-.94-2.06-.94-.94-2.06-.94 2.06-2.06.94z\"/><path d=\"M17.41 7.96l-1.37-1.37c-.4-.4-.92-.59-1.43-.59-.52 0-1.04.2-1.43.59L10.3 9.45l-7.72 7.72c-.78.78-.78 2.05 0 2.83L4 21.41c.39.39.9.59 1.41.59.51 0 1.02-.2 1.41-.59l7.78-7.78 2.81-2.81c.8-.78.8-2.07 0-2.86zM5.41 20L4 18.59l7.72-7.72 1.47 1.35L5.41 20z\"/>\n",
              "  </svg>\n",
              "      </button>\n",
              "      \n",
              "  <style>\n",
              "    .colab-df-container {\n",
              "      display:flex;\n",
              "      flex-wrap:wrap;\n",
              "      gap: 12px;\n",
              "    }\n",
              "\n",
              "    .colab-df-convert {\n",
              "      background-color: #E8F0FE;\n",
              "      border: none;\n",
              "      border-radius: 50%;\n",
              "      cursor: pointer;\n",
              "      display: none;\n",
              "      fill: #1967D2;\n",
              "      height: 32px;\n",
              "      padding: 0 0 0 0;\n",
              "      width: 32px;\n",
              "    }\n",
              "\n",
              "    .colab-df-convert:hover {\n",
              "      background-color: #E2EBFA;\n",
              "      box-shadow: 0px 1px 2px rgba(60, 64, 67, 0.3), 0px 1px 3px 1px rgba(60, 64, 67, 0.15);\n",
              "      fill: #174EA6;\n",
              "    }\n",
              "\n",
              "    [theme=dark] .colab-df-convert {\n",
              "      background-color: #3B4455;\n",
              "      fill: #D2E3FC;\n",
              "    }\n",
              "\n",
              "    [theme=dark] .colab-df-convert:hover {\n",
              "      background-color: #434B5C;\n",
              "      box-shadow: 0px 1px 3px 1px rgba(0, 0, 0, 0.15);\n",
              "      filter: drop-shadow(0px 1px 2px rgba(0, 0, 0, 0.3));\n",
              "      fill: #FFFFFF;\n",
              "    }\n",
              "  </style>\n",
              "\n",
              "      <script>\n",
              "        const buttonEl =\n",
              "          document.querySelector('#df-64170af9-78a4-428e-8714-841f2c3c401c button.colab-df-convert');\n",
              "        buttonEl.style.display =\n",
              "          google.colab.kernel.accessAllowed ? 'block' : 'none';\n",
              "\n",
              "        async function convertToInteractive(key) {\n",
              "          const element = document.querySelector('#df-64170af9-78a4-428e-8714-841f2c3c401c');\n",
              "          const dataTable =\n",
              "            await google.colab.kernel.invokeFunction('convertToInteractive',\n",
              "                                                     [key], {});\n",
              "          if (!dataTable) return;\n",
              "\n",
              "          const docLinkHtml = 'Like what you see? Visit the ' +\n",
              "            '<a target=\"_blank\" href=https://colab.research.google.com/notebooks/data_table.ipynb>data table notebook</a>'\n",
              "            + ' to learn more about interactive tables.';\n",
              "          element.innerHTML = '';\n",
              "          dataTable['output_type'] = 'display_data';\n",
              "          await google.colab.output.renderOutput(dataTable, element);\n",
              "          const docLink = document.createElement('div');\n",
              "          docLink.innerHTML = docLinkHtml;\n",
              "          element.appendChild(docLink);\n",
              "        }\n",
              "      </script>\n",
              "    </div>\n",
              "  </div>\n",
              "  "
            ]
          },
          "metadata": {}
        }
      ]
    },
    {
      "cell_type": "code",
      "source": [
        "def load_data(df: pd.DataFrame) -> str:\n",
        "  try:\n",
        "\n",
        "    client = bigquery.Client()\n",
        "\n",
        "    # TODO(developer): Set table_id to the ID of the table to create.\n",
        "    table_id = \"airflow-gke-381100.test_data.subway_daily_flow\"\n",
        "\n",
        "\n",
        "    job_config = bigquery.LoadJobConfig(\n",
        "        # Specify a (partial) schema. All columns are always written to the\n",
        "        # table. The schema is used to assist in data type definitions.\n",
        "        schema=[\n",
        "            # Specify the type of columns whose type cannot be auto-detected. For\n",
        "            # example the \"title\" column uses pandas dtype \"object\", so its\n",
        "            # data type is ambiguous.\n",
        "            bigquery.SchemaField(\"date\", bigquery.enums.SqlTypeNames.STRING)\n",
        "            \n",
        "        ],\n",
        "        # Optionally, set the write disposition. BigQuery appends loaded rows\n",
        "        # to an existing table by default, but with WRITE_TRUNCATE write\n",
        "        # disposition it replaces the table with the loaded data.\n",
        "        write_disposition=\"WRITE_TRUNCATE\",\n",
        "    )\n",
        "\n",
        "    job = client.load_table_from_dataframe(\n",
        "        transformed_data, table_id, job_config=job_config\n",
        "    )  # Make an API request.\n",
        "    job.result()  # Wait for the job to complete.\n",
        "\n",
        "    table = client.get_table(table_id)  # Make an API request.\n",
        "    print(\n",
        "        \"Loaded {} rows and {} columns to {}\".format(\n",
        "            table.num_rows, len(table.schema), table_id\n",
        "        )\n",
        "    )\n",
        "    return \"OK\"\n",
        "  except Exception as e:\n",
        "    print(\"########################\")\n",
        "    print(str(e))\n",
        "    print(\"########################\")\n",
        "    return \"Error\""
      ],
      "metadata": {
        "id": "vMmdWv7TaSxZ"
      },
      "execution_count": 55,
      "outputs": []
    },
    {
      "cell_type": "code",
      "source": [
        "def main():\n",
        "  raw_data = data_extraction(URL)\n",
        "  transformed_data = data_tranformation(raw_data)\n",
        "  result = load_data(transformed_data)\n",
        "  print(result)\n",
        "  return result"
      ],
      "metadata": {
        "id": "iqOV_3UZhlJe"
      },
      "execution_count": 56,
      "outputs": []
    },
    {
      "cell_type": "code",
      "source": [
        "main()"
      ],
      "metadata": {
        "colab": {
          "base_uri": "https://localhost:8080/",
          "height": 125
        },
        "id": "D8djGPh1iAyO",
        "outputId": "d108ec88-761e-42db-dfd3-635843afc149"
      },
      "execution_count": 57,
      "outputs": [
        {
          "output_type": "stream",
          "name": "stdout",
          "text": [
            "########################\n",
            "(\"Failed to retrieve http://metadata.google.internal/computeMetadata/v1/instance/service-accounts/default/?recursive=true from the Google Compute Engine metadata service. Status: 404 Response:\\nb''\", <google.auth.transport.requests._Response object at 0x7f07e8b753a0>)\n",
            "########################\n",
            "Error\n"
          ]
        },
        {
          "output_type": "execute_result",
          "data": {
            "text/plain": [
              "'Error'"
            ],
            "application/vnd.google.colaboratory.intrinsic+json": {
              "type": "string"
            }
          },
          "metadata": {},
          "execution_count": 57
        }
      ]
    }
  ]
}