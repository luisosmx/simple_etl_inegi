{
  "nbformat": 4,
  "nbformat_minor": 0,
  "metadata": {
    "colab": {
      "provenance": [],
      "authorship_tag": "ABX9TyMBate77Mo7SFioSLE1ylEe",
      "include_colab_link": true
    },
    "kernelspec": {
      "name": "python3",
      "display_name": "Python 3"
    },
    "language_info": {
      "name": "python"
    }
  },
  "cells": [
    {
      "cell_type": "markdown",
      "metadata": {
        "id": "view-in-github",
        "colab_type": "text"
      },
      "source": [
        "<a href=\"https://colab.research.google.com/github/luisosmx/proyect_e2e/blob/main/pof_etl.ipynb\" target=\"_parent\"><img src=\"https://colab.research.google.com/assets/colab-badge.svg\" alt=\"Open In Colab\"/></a>"
      ]
    },
    {
      "cell_type": "code",
      "source": [
        "import requests\n",
        "import pandas as pd\n"
      ],
      "metadata": {
        "id": "AdEhaTVtYMRB"
      },
      "execution_count": 10,
      "outputs": []
    },
    {
      "cell_type": "code",
      "source": [
        "URL = 'https://datos.cdmx.gob.mx/dataset/f2046fd5-51b5-4876-b008-bd65d95f9a02/resource/0e8ffe58-28bb-4dde-afcd-e5f5b4de4ccb/download/afluenciastc_simple_01_2023.csv'\n"
      ],
      "metadata": {
        "id": "PnCr234JZRGt"
      },
      "execution_count": 8,
      "outputs": []
    },
    {
      "cell_type": "code",
      "source": [
        "  response = requests.get(URL)\n",
        "  file_path = \"afluenciastc_simple_01_2023.csv\"\n",
        "  open(file_path, \"wb\").write(response.content)"
      ],
      "metadata": {
        "colab": {
          "base_uri": "https://localhost:8080/"
        },
        "id": "4Nyix74vbO1J",
        "outputId": "e651f414-323c-491a-d8d7-99b014ac1854"
      },
      "execution_count": 9,
      "outputs": [
        {
          "output_type": "execute_result",
          "data": {
            "text/plain": [
              "45944517"
            ]
          },
          "metadata": {},
          "execution_count": 9
        }
      ]
    },
    {
      "cell_type": "code",
      "source": [
        "def data_extraction(url: str) -> pd.DataFrame:\n",
        "\n",
        "  # Descarga de archivo\n",
        "  response = requests.get(url)\n",
        "  file_path = \"afluenciastc_simple_01_2023.csv\"\n",
        "  open(file_path, \"wb\").write(response.content)\n",
        "\n",
        "  # Leer datos del archivo csv en un DataFrame de Pandas\n",
        "  df = pd.read_csv(\"afluenciastc_simple_01_2023.csv\", encoding='ISO-8859-1')\n",
        "  return df "
      ],
      "metadata": {
        "id": "NnSkfgDkZ82g"
      },
      "execution_count": 11,
      "outputs": []
    }
  ]
}